{
  "nbformat": 4,
  "nbformat_minor": 0,
  "metadata": {
    "colab": {
      "provenance": [],
      "authorship_tag": "ABX9TyNQSC6Ogw95OnluA1hCnWdA",
      "include_colab_link": true
    },
    "kernelspec": {
      "name": "python3",
      "display_name": "Python 3"
    },
    "language_info": {
      "name": "python"
    }
  },
  "cells": [
    {
      "cell_type": "markdown",
      "metadata": {
        "id": "view-in-github",
        "colab_type": "text"
      },
      "source": [
        "<a href=\"https://colab.research.google.com/github/udaycodespace/AIxML-SIT2025-WebBlinders-WisdomWells/blob/main/ASSIGNMENTx2.ipynb\" target=\"_parent\"><img src=\"https://colab.research.google.com/assets/colab-badge.svg\" alt=\"Open In Colab\"/></a>"
      ]
    },
    {
      "cell_type": "markdown",
      "source": [
        "# 📘 Assignmentx2: Data Extraction from Mixed List\n",
        "\n",
        "### 🎓 Course: AI/ML SIT2025  \n",
        "### 🤝 Team: The Web Blinders × The Wisdom Wells  \n",
        "### 🧑‍💻 Submitted by: SOMAPURAM UDAY  \n",
        "### 📅 Date: 21-05-2025\n",
        "\n",
        "---\n",
        "\n",
        "## 🔍 Objective\n",
        "\n",
        "This assignment demonstrates **data extraction and filtering operations** on a mixed Python list containing various data structures — lists, tuples, and dictionaries. The goal is to access and process different types of elements systematically.\n",
        "\n",
        "---\n",
        "\n",
        "## 🚀 Task Description\n",
        "\n",
        "Given a mixed list:\n",
        "\n",
        "```python\n",
        "l = [\n",
        "    [1, 2, 3, 4, 5, 6],\n",
        "    (1, 2, 3, 4, 5, 6),\n",
        "    (3, 4, 5, 66, 78, 5),\n",
        "    {'k1': 'Hello', 'k2': 'how', 'k3': 'are', 'k4': 'you'}\n",
        "]\n"
      ],
      "metadata": {
        "id": "unRfWzfRiOd1"
      }
    },
    {
      "cell_type": "markdown",
      "source": [
        "**Perform the following operations using Python:**\n",
        "\n",
        "1.   Extract all elements from the list object.\n",
        "2.   Extract the dictionary from the list.\n",
        "3.   Extract all tuple elements.\n",
        "4.   Flatten and extract all numerical values from the list and tuples.\n",
        "5.   Compute the sum of all numerical values.\n",
        "6.   Filter and display all odd numbers from the numerical data.\n"
      ],
      "metadata": {
        "id": "ugpQBensi-v7"
      }
    },
    {
      "cell_type": "markdown",
      "source": [
        "📌 Key Concepts Used\n",
        "\n",
        "\n",
        "*   List and tuple indexing\n",
        "*   Type checking with isinstance()\n",
        "\n",
        "\n",
        "*   List comprehensions\n",
        "*   Looping and flattening\n",
        "\n",
        "\n",
        "\n",
        "\n",
        "\n",
        "*   Basic arithmetic and filtering\n",
        "\n",
        "\n",
        "\n"
      ],
      "metadata": {
        "id": "ABfuIu0AjeXf"
      }
    },
    {
      "cell_type": "markdown",
      "source": [
        "💡 Code"
      ],
      "metadata": {
        "id": "_pne9poYj8Vn"
      }
    },
    {
      "cell_type": "code",
      "source": [
        "# Given mixed list\n",
        "l = [\n",
        "    [1, 2, 3, 4, 5, 6],\n",
        "    (1, 2, 3, 4, 5, 6),\n",
        "    (3, 4, 5, 66, 78, 5),\n",
        "    {'k1': 'Hello', 'k2': 'how', 'k3': 'are', 'k4': 'you'}\n",
        "]\n",
        "\n",
        "# 1. Extract list elements\n",
        "list_elements = l[0]\n",
        "\n",
        "# 2. Extract dictionary\n",
        "dict_elements = l[3]\n",
        "\n",
        "# 3. Extract all tuples\n",
        "tuple_elements = [item for item in l if isinstance(item, tuple)]\n",
        "\n",
        "# 4. Extract all numerical values from lists and tuples\n",
        "numerical_data = []\n",
        "for item in l:\n",
        "    if isinstance(item, (list, tuple)):\n",
        "        numerical_data.extend(item)\n",
        "\n",
        "# 5. Sum of all numerical values\n",
        "total_sum = sum(numerical_data)\n",
        "\n",
        "# 6. Filter odd values\n",
        "odd_values = [n for n in numerical_data if n % 2 != 0]\n",
        "\n",
        "# Output\n",
        "print(\"1. List Elements:\", list_elements)\n",
        "print(\"2. Dict Elements:\", dict_elements)\n",
        "print(\"3. Tuple Elements:\", tuple_elements)\n",
        "print(\"4. Numerical Data:\", numerical_data)\n",
        "print(\"5. Sum of Numerical Data:\", total_sum)\n",
        "print(\"6. Odd Values:\", odd_values)\n"
      ],
      "metadata": {
        "colab": {
          "base_uri": "https://localhost:8080/"
        },
        "id": "JQidkfBskI1l",
        "outputId": "69056dd6-445e-42c0-cb83-01168b5adc23"
      },
      "execution_count": 1,
      "outputs": [
        {
          "output_type": "stream",
          "name": "stdout",
          "text": [
            "1. List Elements: [1, 2, 3, 4, 5, 6]\n",
            "2. Dict Elements: {'k1': 'Hello', 'k2': 'how', 'k3': 'are', 'k4': 'you'}\n",
            "3. Tuple Elements: [(1, 2, 3, 4, 5, 6), (3, 4, 5, 66, 78, 5)]\n",
            "4. Numerical Data: [1, 2, 3, 4, 5, 6, 1, 2, 3, 4, 5, 6, 3, 4, 5, 66, 78, 5]\n",
            "5. Sum of Numerical Data: 203\n",
            "6. Odd Values: [1, 3, 5, 1, 3, 5, 3, 5, 5]\n"
          ]
        }
      ]
    },
    {
      "cell_type": "markdown",
      "source": [
        "🧠 Learning Outcome\n",
        "\n",
        "\n",
        "*   Identified and accessed different data types from a nested structure.\n",
        "\n",
        "*   Practiced conditional extraction and filtering logic.\n",
        "*   Applied loop logic to flatten and process nested data efficiently.\n"
      ],
      "metadata": {
        "id": "EK5clnkikP58"
      }
    },
    {
      "cell_type": "markdown",
      "source": [
        "✅ Status\n",
        "*   ✔️ Completed and tested successfully on Google Colab\n",
        "*   📁 Second Assignment Submission for AI/ML SIT2025"
      ],
      "metadata": {
        "id": "IONNFTlUkbvF"
      }
    }
  ]
}
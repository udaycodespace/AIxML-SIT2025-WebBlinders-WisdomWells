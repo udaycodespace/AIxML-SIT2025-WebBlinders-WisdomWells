{
  "nbformat": 4,
  "nbformat_minor": 0,
  "metadata": {
    "colab": {
      "provenance": [],
      "authorship_tag": "ABX9TyN3ryRgG9b4HYfoHFOaQUwP",
      "include_colab_link": true
    },
    "kernelspec": {
      "name": "python3",
      "display_name": "Python 3"
    },
    "language_info": {
      "name": "python"
    }
  },
  "cells": [
    {
      "cell_type": "markdown",
      "metadata": {
        "id": "view-in-github",
        "colab_type": "text"
      },
      "source": [
        "<a href=\"https://colab.research.google.com/github/udaycodespace/AIxML-SIT2025-WebBlinders-WisdomWells/blob/main/ASSIGNMENTx1.ipynb\" target=\"_parent\"><img src=\"https://colab.research.google.com/assets/colab-badge.svg\" alt=\"Open In Colab\"/></a>"
      ]
    },
    {
      "cell_type": "markdown",
      "source": [
        "# Assignmentx1: College Routine Planner\n",
        "\n",
        "### 👨‍🎓 Course: AI/ML SIT2025  \n",
        "### 🧠 Team: The Web Blinders × The Wisdom Wells  \n",
        "### 📅 Date: 20-05-2025  \n",
        "### 👨‍💻 Author: SOMAPURAM UDAY  \n",
        "\n",
        "---\n",
        "\n",
        "## 📌 Objective\n",
        "\n",
        "This assignment is to implement a **time-based routine assistant** using Python's `if-elif-else` ladder. Based on the user's **wake-up time**, the program suggests suitable actions — from continuing sleep, getting ready for college, or preparing for internships.\n",
        "\n",
        "---\n",
        "\n",
        "## 🚀 How it works\n",
        "\n",
        "- The program asks the user to **input wake-up time in `H.MM` format**, e.g., `6.30`, `7.00`, etc.\n",
        "- It **converts the time to total minutes** since midnight for easier comparisons.\n",
        "- Using a structured `if-elif-else` ladder, it checks the time range and **prints a suitable message** (e.g., \"Get ready for college\", \"You woke up too early\", etc.).\n",
        "\n",
        "---\n",
        "\n",
        "## 🔍 Example\n",
        "\n",
        "### Input:\n",
        "\n",
        "Enter wake-up time (e.g. 4.30, 7.00, 9.15): 6.45\n",
        "\n",
        "### Output:\n",
        "\n",
        "06.30–07.30 Good Morning! Do your activities and get ready for college\n",
        "\n",
        "---\n",
        "\n",
        "## 🧠 Concepts Used\n",
        "\n",
        "- User Input (`input()`)\n",
        "- Type conversion (`float`, `int`)\n",
        "- Rounding and minute extraction\n",
        "- Time conversion to minutes\n",
        "- Conditional ladder (`if-elif-else`)\n",
        "\n",
        "---\n",
        "\n"
      ],
      "metadata": {
        "id": "6O4SZbO6ep1p"
      }
    },
    {
      "cell_type": "code",
      "execution_count": null,
      "metadata": {
        "colab": {
          "base_uri": "https://localhost:8080/"
        },
        "id": "tY79sE2uekgb",
        "outputId": "02c2f828-aa56-4f82-ca58-d890330a7fc5"
      },
      "outputs": [
        {
          "output_type": "stream",
          "name": "stdout",
          "text": [
            "Enter wake-up time (e.g. 4.30, 7.00, 9.15): 6.45\n",
            "06.30–07.30  Good Morning! Do your activities and get ready for college\n"
          ]
        }
      ],
      "source": [
        "## 📜 Python Code\n",
        "def college_routine():\n",
        "    wake = input(\"Enter wake-up time (e.g. 4.30, 7.00, 9.15): \").strip()\n",
        "\n",
        "    try:\n",
        "        t = float(wake)  # Convert to float\n",
        "        h = int(t)       # Get hours\n",
        "        m = int(round((t - h) * 100))  # Get minutes\n",
        "        if m >= 60:\n",
        "            print(\"Invalid time format.\")\n",
        "            return\n",
        "    except ValueError:\n",
        "        print(\"Invalid format. Use H.MM\")\n",
        "        return\n",
        "\n",
        "    total = h * 60 + m  # Total minutes since midnight\n",
        "\n",
        "    # Conditional ladder to print appropriate message\n",
        "    if total < 30:\n",
        "        print(\"Too early. Go back to sleep.\")\n",
        "    elif total < 90:\n",
        "        print(\"00.30–01.30  sleep you woke up too early, keep alarm and wake up on time\")\n",
        "    elif total < 150:\n",
        "        print(\"01.30–02.30  sleep you woke up too early, keep alarm and wake up on time\")\n",
        "    elif total < 210:\n",
        "        print(\"02.30–03.30  sleep you woke up too early, keep alarm and wake up on time\")\n",
        "    elif total < 270:\n",
        "        print(\"03.30–04.30  sleep you woke up too early, keep alarm and wake up on time\")\n",
        "    elif total < 330:\n",
        "        print(\"04.30–05.30  sleep you woke up too early, keep alarm and wake up on time\")\n",
        "    elif total < 390:\n",
        "        print(\"05.30–06.30  sleep you woke up too early, keep alarm and wake up on time\")\n",
        "    elif total < 450:\n",
        "        print(\"06.30–07.30  Good Morning! Do your activities and get ready for college\")\n",
        "    elif total < 510:\n",
        "        print(\"07.30–08.30  You woke up late, be fast and get ready for college\")\n",
        "    elif total < 570:\n",
        "        print(\"08.30–09.30  Get ready and travel to college\")\n",
        "    elif total < 630:\n",
        "        print(\"09.30–10.30  You woke up late, freshen up, have breakfast, and try to attend the next session\")\n",
        "    elif total < 690:\n",
        "        print(\"10.30–11.30  You woke up late, freshen up, have breakfast, and try to attend the next session\")\n",
        "    elif total < 750:\n",
        "        print(\"11.30–12.30  You woke up late, freshen up, have breakfast, and try to attend the next session\")\n",
        "    elif total < 810:\n",
        "        print(\"12.30–13.30  You woke up late, freshen up, have lunch, and try to attend the next session\")\n",
        "    elif total < 870:\n",
        "        print(\"13.30–14.30  You woke up late, freshen up, have lunch, and try to attend the next session\")\n",
        "    elif total < 930:\n",
        "        print(\"14.30–15.30  You woke up late, freshen up, have lunch, and try to attend the next session\")\n",
        "    elif total < 990:\n",
        "        print(\"15.30–16.30  You woke up late, freshen up, have lunch, and try to contact friends to know what happened\")\n",
        "    elif total < 1050:\n",
        "        print(\"16.30–17.30  You woke up late, have snacks, contact friends, and prepare for internship @ Web Blinders\")\n",
        "    elif total < 1110:\n",
        "        print(\"17.30–18.30  You woke up late, have snacks, contact friends, and prepare for internship @ Web Blinders\")\n",
        "    elif total < 1170:\n",
        "        print(\"18.30–19.30  Join Google Meet for internship @ Web Blinders, and simultaneously read and take notes\")\n",
        "    elif total < 1230:\n",
        "        print(\"19.30–20.30  You just woke up. Freshen up quickly and check for any missed internship or college tasks.\")\n",
        "    elif total < 1290:\n",
        "        print(\"20.30–21.30  Have your dinner. Reflect on the day’s progress and plan any remaining work.\")\n",
        "    elif total < 1350:\n",
        "        print(\"21.30–22.30  Focus on pending tasks or self-study. Revise concepts, read or watch tutorials.\")\n",
        "    elif total < 1410:\n",
        "        print(\"22.30–23.30  Finish up your tasks calmly. Avoid distractions and prepare to wind down.\")\n",
        "    else:\n",
        "        print(\"23.30–00.30  Relax your mind. Light stretching or journaling. Get ready to sleep and reset your schedule.\")\n",
        "# Run program\n",
        "if __name__ == \"__main__\":\n",
        "    college_routine()\n"
      ]
    },
    {
      "cell_type": "markdown",
      "source": [
        "✅ Summary\n",
        "\n",
        "This assignment demonstrates control flow and time logic in Python. It helps create a realistic routine assistant using basic programming constructs. A great hands-on for beginners in the AI/ML SIT2025 program!\n",
        "\n",
        "\n"
      ],
      "metadata": {
        "id": "NlrrALzIgzok"
      }
    }
  ]
}